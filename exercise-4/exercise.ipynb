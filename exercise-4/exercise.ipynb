{
 "cells": [
  {
   "cell_type": "markdown",
   "metadata": {},
   "source": [
    "# Exercise-3\n",
    "Add the specified code for each code cell, running the cells _in order_. <small>This exercise was adapted from [Erle Robotics S.L.](https://www.gitbook.com/@erlerobotics)</small>"
   ]
  },
  {
   "cell_type": "markdown",
   "metadata": {},
   "source": [
    "Create a _list_ **`students`** that contains dictionaries, each representing a student. A student has a `name`, as well as _lists_ of scores for each of `homework`, `quizzes`, and `tests`. Your dictionary should contain the following dictionaries for the following students:\n",
    "- Lloyd, who earned the following scores:\n",
    "    - Homework: 90, 97, 75, 92\n",
    "    - Quizzes: 88, 40, 94\n",
    "    - Exams: 75, 90\n",
    "- Alice, who earned the following scores:\n",
    "    - Homework: 100, 92, 98, 100\n",
    "    - Quizzes: 82, 83, 91\n",
    "    - Exams: 89, 97\n",
    "- Tyler, who earned the following scores:\n",
    "    - Homework: 0, 87, 75, 22\n",
    "    - Quizzes: 0, 75, 78\n",
    "    - Exams: 100, 100\n",
    "\n",
    "Print out the list after you create it."
   ]
  },
  {
   "cell_type": "code",
   "execution_count": 9,
   "metadata": {
    "collapsed": false
   },
   "outputs": [
    {
     "name": "stdout",
     "output_type": "stream",
     "text": [
      "[{'name': 'Lloyd', 'homework': [90, 97, 75, 92], 'quizzes': [88, 40, 94], 'tests': [75, 90]}, {'name': 'Alice', 'homework': [100, 92, 98, 100], 'quizzes': [82, 83, 91], 'tests': [89, 97]}, {'name': 'Tyler', 'homework': [0, 87, 75, 22], 'quizzes': [0, 75, 78], 'tests': [100, 100]}]\n"
     ]
    }
   ],
   "source": [
    "from __future__ import division, absolute_import, print_function\n",
    "students = [\n",
    "    {\n",
    "      \"name\": \"Lloyd\",\n",
    "      \"homework\": [90, 97, 75, 92],\n",
    "      \"quizzes\": [88, 40, 94],\n",
    "      \"tests\": [75, 90]\n",
    "    },\n",
    "    {\n",
    "      \"name\": \"Alice\",\n",
    "      \"homework\": [100, 92, 98, 100],\n",
    "      \"quizzes\": [82, 83, 91],\n",
    "      \"tests\": [89, 97]\n",
    "    },\n",
    "    {\n",
    "      \"name\": \"Tyler\",\n",
    "      \"homework\": [0, 87, 75, 22],\n",
    "      \"quizzes\": [0, 75, 78],\n",
    "      \"tests\": [100, 100]\n",
    "    }\n",
    "]\n",
    "print(students)\n"
   ]
  },
  {
   "cell_type": "markdown",
   "metadata": {},
   "source": [
    "Define a function **`weighted_average()`** that takes in a dictionary representing a student (as above), as well as 3 values between 0 and 1 representing the amount of weight that each of homework (default 40%), quizzes (default 40%), and tests (default 20%) receive in determing the final grade. The function should then calculate and return the overall score (between 0 and 100) based on these weights.\n",
    "- Hint: use the `sum()` function to easily sum up the scores for each category."
   ]
  },
  {
   "cell_type": "code",
   "execution_count": 18,
   "metadata": {
    "collapsed": false
   },
   "outputs": [
    {
     "data": {
      "text/plain": [
       "{'Alice': 91.7, 'Lloyd': 81.5, 'Tyler': 58.8}"
      ]
     },
     "execution_count": 18,
     "metadata": {},
     "output_type": "execute_result"
    }
   ],
   "source": [
    "def weighted_average(students):\n",
    "    dic={}\n",
    "    for i in students:\n",
    "        homework=sum(i['homework'])/4*.4\n",
    "        quizzes=sum(i['quizzes'])/3*.4\n",
    "        tests=sum(i['tests'])/2*.2\n",
    "        dic[i['name']]=round(homework+quizzes+tests,1)\n",
    "    return(dic)\n",
    "              \n",
    "weighted_average(students)"
   ]
  },
  {
   "cell_type": "markdown",
   "metadata": {},
   "source": [
    "Create a variable **`anonymous_scores`** that is a list of the average scores of all the students in the class. Homework gets 10% weight, quizzes get 30% weight, and exams get 60% weight (it's not a well-designed course). Output the variable once done."
   ]
  },
  {
   "cell_type": "code",
   "execution_count": 20,
   "metadata": {
    "collapsed": false
   },
   "outputs": [
    {
     "data": {
      "text/plain": [
       "dict_values([81.5, 91.7, 58.8])"
      ]
     },
     "execution_count": 20,
     "metadata": {},
     "output_type": "execute_result"
    }
   ],
   "source": [
    "anonymous_scores=weighted_average(students).values()\n",
    "anonymous_scores"
   ]
  },
  {
   "cell_type": "markdown",
   "metadata": {},
   "source": [
    "Define a function **`get_letter_grade()`** that takes in a score and returns a \"letter grade\" associated with that score based on the following criteria:\n",
    "- 90-100 is an A\n",
    "- 80-90 is a B\n",
    "- 70-80 is a C\n",
    "- 60-70 is a D\n",
    "- 0-60 is an F"
   ]
  },
  {
   "cell_type": "code",
   "execution_count": 21,
   "metadata": {
    "collapsed": false
   },
   "outputs": [],
   "source": [
    "def get_letter_grade(score):\n",
    "    if score<=60:\n",
    "        return \"F\"\n",
    "    elif score<=70:\n",
    "        return \"D\"\n",
    "    elif score<=80:\n",
    "        return \"C\"\n",
    "    elif score<=90:\n",
    "        return \"B\"\n",
    "    elif score<=100:\n",
    "        return \"A\""
   ]
  },
  {
   "cell_type": "markdown",
   "metadata": {},
   "source": [
    "Assign a new key `grade` to each student in the `students` list that is the final letter grade for their work (using the same weights as you used for the anonymous scores)."
   ]
  },
  {
   "cell_type": "code",
   "execution_count": 22,
   "metadata": {
    "collapsed": false
   },
   "outputs": [
    {
     "data": {
      "text/plain": [
       "[{'grade': 'B',\n",
       "  'homework': [90, 97, 75, 92],\n",
       "  'name': 'Lloyd',\n",
       "  'quizzes': [88, 40, 94],\n",
       "  'tests': [75, 90]},\n",
       " {'grade': 'A',\n",
       "  'homework': [100, 92, 98, 100],\n",
       "  'name': 'Alice',\n",
       "  'quizzes': [82, 83, 91],\n",
       "  'tests': [89, 97]},\n",
       " {'grade': 'F',\n",
       "  'homework': [0, 87, 75, 22],\n",
       "  'name': 'Tyler',\n",
       "  'quizzes': [0, 75, 78],\n",
       "  'tests': [100, 100]}]"
      ]
     },
     "execution_count": 22,
     "metadata": {},
     "output_type": "execute_result"
    }
   ],
   "source": [
    "for i in students:\n",
    "    i['grade']=get_letter_grade(weighted_average(students)[i['name']])\n",
    "students"
   ]
  },
  {
   "cell_type": "markdown",
   "metadata": {},
   "source": [
    "Print the class's average letter grade."
   ]
  },
  {
   "cell_type": "code",
   "execution_count": 23,
   "metadata": {
    "collapsed": false
   },
   "outputs": [
    {
     "name": "stdout",
     "output_type": "stream",
     "text": [
      "C\n"
     ]
    }
   ],
   "source": [
    "print(get_letter_grade(sum(anonymous_scores)/len(anonymous_scores)))"
   ]
  }
 ],
 "metadata": {
  "kernelspec": {
   "display_name": "Python 3",
   "language": "python",
   "name": "python3"
  },
  "language_info": {
   "codemirror_mode": {
    "name": "ipython",
    "version": 3
   },
   "file_extension": ".py",
   "mimetype": "text/x-python",
   "name": "python",
   "nbconvert_exporter": "python",
   "pygments_lexer": "ipython3",
   "version": "3.6.0"
  },
  "toc": {
   "colors": {
    "hover_highlight": "#DAA520",
    "running_highlight": "#FF0000",
    "selected_highlight": "#FFD700"
   },
   "moveMenuLeft": true,
   "nav_menu": {
    "height": "30px",
    "width": "252px"
   },
   "navigate_menu": true,
   "number_sections": true,
   "sideBar": true,
   "threshold": 4,
   "toc_cell": false,
   "toc_section_display": "block",
   "toc_window_display": false,
   "widenNotebook": false
  }
 },
 "nbformat": 4,
 "nbformat_minor": 2
}
