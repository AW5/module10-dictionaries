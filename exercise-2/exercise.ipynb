{
 "cells": [
  {
   "cell_type": "markdown",
   "metadata": {},
   "source": [
    "# Exercise-2\n",
    "Add the specified code for each code cell, running the cells _in order_."
   ]
  },
  {
   "cell_type": "markdown",
   "metadata": {},
   "source": [
    "Open the included **`data/words_small.txt`** file (containing a \"small\" list of English words) and `read()` it into a single string variable **`words_str`**. Then print the first 100 _characters_ of the `words_str` variable (use a slice operator!)"
   ]
  },
  {
   "cell_type": "code",
   "execution_count": 3,
   "metadata": {
    "collapsed": false
   },
   "outputs": [
    {
     "name": "stdout",
     "output_type": "stream",
     "text": [
      "abbreviate\n",
      "abbreviation\n",
      "abdomen\n",
      "able\n",
      "aboard\n",
      "abroad\n",
      "absent\n",
      "absolute\n",
      "abuse\n",
      "academic\n",
      "academy\n",
      "accelerate\n"
     ]
    }
   ],
   "source": [
    "ws=open('data/words_small.txt')\n",
    "words_str=ws.read()\n",
    "print(words_str[:100])"
   ]
  },
  {
   "cell_type": "markdown",
   "metadata": {},
   "source": [
    "**Using a loop**, count the number of times the newline character `\\n` appears in the `words_str`. This should tell you the number of words in the file (plus or minus one). You can check your work with the built-in `count()` string method (but use the loop for practice!)"
   ]
  },
  {
   "cell_type": "code",
   "execution_count": 15,
   "metadata": {
    "collapsed": false
   },
   "outputs": [
    {
     "name": "stdout",
     "output_type": "stream",
     "text": [
      "1520\n",
      "1520\n"
     ]
    }
   ],
   "source": [
    "n=0\n",
    "for i in words_str:\n",
    "    if '\\n' in i:\n",
    "        n+=1\n",
    "print(n)\n",
    "print(words_str.count('\\n'))"
   ]
  },
  {
   "cell_type": "markdown",
   "metadata": {},
   "source": [
    "Create a variable **`letter_counts`** that is a dictionary whose keys are characters (letters) and whosevalues are the number of times that character appears in `words_str`. Print the dictionary after you make it.\n",
    "- To do this, start with an empty dictionary, then loop through the letters one at a time. At each letter, increase the value associated with that letter key by one.\n",
    "- Watch out for if the letter is not in the dictionary yet!\n",
    "- Also _delete_ the entry for the newline `\\n` character"
   ]
  },
  {
   "cell_type": "code",
   "execution_count": 17,
   "metadata": {
    "collapsed": false
   },
   "outputs": [
    {
     "data": {
      "text/plain": [
       "{'a': 703,\n",
       " 'b': 188,\n",
       " 'c': 328,\n",
       " 'd': 314,\n",
       " 'e': 1118,\n",
       " 'f': 155,\n",
       " 'g': 213,\n",
       " 'h': 295,\n",
       " 'i': 515,\n",
       " 'j': 16,\n",
       " 'k': 126,\n",
       " 'l': 457,\n",
       " 'm': 223,\n",
       " 'n': 550,\n",
       " 'o': 598,\n",
       " 'p': 224,\n",
       " 'q': 9,\n",
       " 'r': 642,\n",
       " 's': 504,\n",
       " 't': 604,\n",
       " 'u': 279,\n",
       " 'v': 85,\n",
       " 'w': 161,\n",
       " 'x': 23,\n",
       " 'y': 189,\n",
       " 'z': 15}"
      ]
     },
     "execution_count": 17,
     "metadata": {},
     "output_type": "execute_result"
    }
   ],
   "source": [
    "letter_counts={}\n",
    "strin='abcdefghijklmnopqrstuvwxyz'\n",
    "for i in strin:\n",
    "    letter_counts[i]=words_str.count(i)\n",
    "letter_counts"
   ]
  },
  {
   "cell_type": "markdown",
   "metadata": {},
   "source": [
    "Print out all the count in the `letter_counts` dictionary in the format `\"A appears 703 times\"`, each on a new line, in alphabetical order. _Hint_: iterate through the sorted keys!"
   ]
  },
  {
   "cell_type": "code",
   "execution_count": 20,
   "metadata": {
    "collapsed": false
   },
   "outputs": [
    {
     "name": "stdout",
     "output_type": "stream",
     "text": [
      "a  appears  703  times\n",
      "b  appears  188  times\n",
      "c  appears  328  times\n",
      "d  appears  314  times\n",
      "e  appears  1118  times\n",
      "f  appears  155  times\n",
      "g  appears  213  times\n",
      "h  appears  295  times\n",
      "i  appears  515  times\n",
      "j  appears  16  times\n",
      "k  appears  126  times\n",
      "l  appears  457  times\n",
      "m  appears  223  times\n",
      "n  appears  550  times\n",
      "o  appears  598  times\n",
      "p  appears  224  times\n",
      "q  appears  9  times\n",
      "r  appears  642  times\n",
      "s  appears  504  times\n",
      "t  appears  604  times\n",
      "u  appears  279  times\n",
      "v  appears  85  times\n",
      "w  appears  161  times\n",
      "x  appears  23  times\n",
      "y  appears  189  times\n",
      "z  appears  15  times\n"
     ]
    }
   ],
   "source": [
    "for i in letter_counts:\n",
    "    print(i,\" appears \",letter_counts[i],\" times\")"
   ]
  },
  {
   "cell_type": "markdown",
   "metadata": {},
   "source": [
    "Print which letter from the `letter_counts` dictionary has a **value** of `598`. _Hint:_ use a loop to look through all the _items_ until you find the right one, then print that!"
   ]
  },
  {
   "cell_type": "code",
   "execution_count": 22,
   "metadata": {
    "collapsed": false
   },
   "outputs": [
    {
     "name": "stdout",
     "output_type": "stream",
     "text": [
      "o\n"
     ]
    }
   ],
   "source": [
    "for i in letter_counts:\n",
    "    if letter_counts[i]==598:\n",
    "        print(i)"
   ]
  },
  {
   "cell_type": "markdown",
   "metadata": {},
   "source": [
    "Create a variable **`count_to_letter_dict`** that is a dictionary whose **keys** are the counts and whose **values** are the letters that have that count. This is a _reverse lookup_ dictionary. Hint: loop through items in `letter_counts` and add an item to your new dictionary for each element. You can assume no duplicated counts."
   ]
  },
  {
   "cell_type": "code",
   "execution_count": 36,
   "metadata": {
    "collapsed": false
   },
   "outputs": [],
   "source": [
    "count_to_letter_dict = {}\n",
    "for letter,count in letter_counts.items():\n",
    "    count_to_letter_dict[count] = letter  # assumes no duplicates, otherwise would need lists"
   ]
  },
  {
   "cell_type": "markdown",
   "metadata": {},
   "source": [
    "Print the **10** most common letters and their counts with the format `\"A appears 703 times\"`. _Hint:_ you'll need to sort the keys to `count_to_letter_dict` and take the first 10 of those."
   ]
  },
  {
   "cell_type": "code",
   "execution_count": 34,
   "metadata": {
    "collapsed": false
   },
   "outputs": [
    {
     "name": "stdout",
     "output_type": "stream",
     "text": [
      "E appears 1118 times\n",
      "A appears 703 times\n",
      "R appears 642 times\n",
      "T appears 604 times\n",
      "O appears 598 times\n",
      "N appears 550 times\n",
      "I appears 515 times\n",
      "S appears 504 times\n",
      "L appears 457 times\n",
      "C appears 328 times\n"
     ]
    }
   ],
   "source": [
    "sorted_keys = sorted(count_to_letter_dict.keys(), reverse=True) \n",
    "for count in sorted_keys[:10]:  # slice!\n",
    "    print(count_to_letter_dict[count].upper(), \"appears\", count, \"times\")"
   ]
  },
  {
   "cell_type": "markdown",
   "metadata": {},
   "source": [
    "Bonus: repeat your analysis on the `data/words_huge.txt` file! Are the top letters the same?"
   ]
  }
 ],
 "metadata": {
  "kernelspec": {
   "display_name": "Python 3",
   "language": "python",
   "name": "python3"
  },
  "language_info": {
   "codemirror_mode": {
    "name": "ipython",
    "version": 3
   },
   "file_extension": ".py",
   "mimetype": "text/x-python",
   "name": "python",
   "nbconvert_exporter": "python",
   "pygments_lexer": "ipython3",
   "version": "3.6.0"
  },
  "toc": {
   "colors": {
    "hover_highlight": "#DAA520",
    "running_highlight": "#FF0000",
    "selected_highlight": "#FFD700"
   },
   "moveMenuLeft": true,
   "nav_menu": {
    "height": "30px",
    "width": "252px"
   },
   "navigate_menu": true,
   "number_sections": true,
   "sideBar": true,
   "threshold": 4,
   "toc_cell": false,
   "toc_section_display": "block",
   "toc_window_display": false,
   "widenNotebook": false
  }
 },
 "nbformat": 4,
 "nbformat_minor": 2
}
